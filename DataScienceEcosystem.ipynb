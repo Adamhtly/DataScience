{
 "cells": [
  {
   "cell_type": "markdown",
   "id": "c8e78527-b449-4a72-8f92-7d719b65dc0f",
   "metadata": {},
   "source": [
    "### Data Science Tools and Ecosystem"
   ]
  },
  {
   "cell_type": "markdown",
   "id": "43708927-9228-49a2-82bb-9ffd7d327cb6",
   "metadata": {},
   "source": [
    "In this notebook, Data Science Tools and Ecosystem will be summarized"
   ]
  },
  {
   "cell_type": "markdown",
   "id": "5def05e5-4742-4099-a268-036d3f39cdf1",
   "metadata": {},
   "source": [
    "Objectives:\n",
    "\n",
    "-  List popular languages for data science\n",
    "-  List popular libraries for data science\n",
    "-  List popular open source data science tools\n",
    "-  Demonstrate arithmetic operations in Python"
   ]
  },
  {
   "cell_type": "markdown",
   "id": "c3d1468c-3ae8-45e2-b05a-d950bf694f14",
   "metadata": {},
   "source": [
    "Some popular languages used by Data Scientists include:\n",
    "    \n",
    "1. Python\n",
    "2. R\n",
    "3. Scala\n",
    "4. SQL"
   ]
  },
  {
   "cell_type": "markdown",
   "id": "d0812b83-3abd-4587-bdcf-05ef47b673d0",
   "metadata": {},
   "source": [
    "Some libraries commonly used by Data Scientists are:\n",
    "\n",
    "1. Matplotlib\n",
    "2. Numpy\n",
    "3. Scikit-learn\n",
    "4. TensorFlow"
   ]
  },
  {
   "cell_type": "markdown",
   "id": "7427d0ba-c6bd-496a-9bf8-ce6f728e93bb",
   "metadata": {},
   "source": [
    "|Data Science Tools|\n",
    "|------------------|\n",
    "|Jupyter Notebook  |\n",
    "|Spyder            |\n",
    "|Visual Studio     |"
   ]
  },
  {
   "cell_type": "markdown",
   "id": "8add329d-408a-42c3-b79d-885cc30dc595",
   "metadata": {},
   "source": [
    "### Below are a few examples of arithmetic expressions in Python"
   ]
  },
  {
   "cell_type": "code",
   "execution_count": 1,
   "id": "91f657f3-d00d-4313-946c-6271b293dba2",
   "metadata": {
    "tags": []
   },
   "outputs": [
    {
     "data": {
      "text/plain": [
       "17"
      ]
     },
     "execution_count": 1,
     "metadata": {},
     "output_type": "execute_result"
    }
   ],
   "source": [
    "# This is a simple arithmetic expression to multiply then add integers\n",
    "\n",
    "(3*4)+5"
   ]
  },
  {
   "cell_type": "code",
   "execution_count": 2,
   "id": "907174de-b0a6-441c-8163-03126681ee55",
   "metadata": {
    "tags": []
   },
   "outputs": [
    {
     "data": {
      "text/plain": [
       "3.3333333333333335"
      ]
     },
     "execution_count": 2,
     "metadata": {},
     "output_type": "execute_result"
    }
   ],
   "source": [
    "# This will convert 200 minutes to hours using division by 60\n",
    "\n",
    "200/60"
   ]
  },
  {
   "cell_type": "markdown",
   "id": "66149266-9121-4e4d-9a87-d6ba0633426b",
   "metadata": {},
   "source": [
    "## Author\n",
    "Adam Hartley"
   ]
  }
 ],
 "metadata": {
  "kernelspec": {
   "display_name": "Python",
   "language": "python",
   "name": "conda-env-python-py"
  },
  "language_info": {
   "codemirror_mode": {
    "name": "ipython",
    "version": 3
   },
   "file_extension": ".py",
   "mimetype": "text/x-python",
   "name": "python",
   "nbconvert_exporter": "python",
   "pygments_lexer": "ipython3",
   "version": "3.7.12"
  }
 },
 "nbformat": 4,
 "nbformat_minor": 5
}
